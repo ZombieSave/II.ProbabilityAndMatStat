{
 "cells": [
  {
   "cell_type": "code",
   "execution_count": 5,
   "id": "b1fbef9c",
   "metadata": {},
   "outputs": [],
   "source": [
    "import numpy as np"
   ]
  },
  {
   "cell_type": "markdown",
   "id": "b50d8211",
   "metadata": {},
   "source": [
    "### Задача 1"
   ]
  },
  {
   "cell_type": "markdown",
   "id": "833ea282",
   "metadata": {},
   "source": [
    "\n",
    "Имеется колода в 52 карты. Найти число возможностей вытянуть из неё 4 карты так, чтобы среди них был хотя бы один туз."
   ]
  },
  {
   "cell_type": "markdown",
   "id": "7d718648",
   "metadata": {},
   "source": [
    "\n",
    "$C_n^k=\\frac{n!}{k!(n-k)!}$<br><br>\n",
    "для тузов n=4, для оставшихся карт n=52-4=48<br>\n",
    "сочетание из 1 туза k=1: $C_4^1=\\frac{4!}{1!(4-1)!}$, сочетание оставшиеся карты в колоде k=4-1: $C_{48}^3=\\frac{48!}{3!(48-3)!}$<br>\n",
    "сочетание из 2х тузов k=2: $C_4^2=\\frac{4!}{2!(4-2)!}$, сочетание оставшиеся карты в колоде k=4-2: $C_{48}^2=\\frac{48!}{2!(48-2)!}$<br>\n",
    "сочетание из 3х тузов k=3: $C_4^3=\\frac{4!}{3!(4-3)!}$, сочетание оставшиеся карты в колоде k=4-3: $C_{48}^1=\\frac{48!}{1!(48-1)!}$<br>\n",
    "сочетание из 4х тузов k=4: $C_4^4=\\frac{4!}{4!(4-4)!}$, сочетание оставшиеся карты в колоде k=4-4: $C_{48}^0=\\frac{48!}{0!(48-0)!}$<br>"
   ]
  },
  {
   "cell_type": "code",
   "execution_count": 64,
   "id": "c31b8388",
   "metadata": {},
   "outputs": [
    {
     "name": "stdout",
     "output_type": "stream",
     "text": [
      "Ответ: вытянуть из колоды 4 карты так, чтобы среди них был хотя бы один туз равна 76145\n"
     ]
    }
   ],
   "source": [
    "res = 0\n",
    "\n",
    "# 1 туз\n",
    "C4 = np.math.factorial(4) // (np.math.factorial(1)*(np.math.factorial(4-1)))\n",
    "C48 = np.math.factorial(48) // (np.math.factorial(3)*(np.math.factorial(48-3)))\n",
    "res = C4*C48\n",
    "\n",
    "# 2 туза\n",
    "C4 = np.math.factorial(4) // (np.math.factorial(2)*(np.math.factorial(4-2)))\n",
    "C48 = np.math.factorial(48) // (np.math.factorial(2)*(np.math.factorial(48-2)))\n",
    "res = res + C4*C48\n",
    "\n",
    "# 3 туза\n",
    "C4 = np.math.factorial(4) // (np.math.factorial(3)*(np.math.factorial(4-3)))\n",
    "C48 = np.math.factorial(48) // (np.math.factorial(1)*(np.math.factorial(48-1)))\n",
    "res = res + C4*C48\n",
    "\n",
    "# 4 туза\n",
    "C4 = np.math.factorial(4) // (np.math.factorial(4)*(np.math.factorial(4-4)))\n",
    "C48 = np.math.factorial(48) // (np.math.factorial(0)*(np.math.factorial(48-0)))\n",
    "res = res + C4*C48\n",
    "\n",
    "print(f\"Ответ: вытянуть из колоды 4 карты так, чтобы среди них был хотя бы один туз равна {res}\")"
   ]
  },
  {
   "cell_type": "markdown",
   "id": "60632d5f",
   "metadata": {},
   "source": [
    "### Задачи 2 и 3\n",
    "\n",
    "Из 60 вопросов, входящих в экзаменационные билеты, студент знает 50. Случайным образом студент вытягивает 3 вопроса. Какова вероятность, что все выбранные вопросы знакомы студенту? Какова вероятность что два из трёх вопросов знакомы студенту?"
   ]
  },
  {
   "cell_type": "markdown",
   "id": "dd82455e",
   "metadata": {},
   "source": [
    "$C_n^k=\\frac{n!}{k!(n-k)!}$<br><br>\n",
    "##### 1. Найдём вероятность где все три знакомы студенту<br>\n",
    "\n",
    "$C_{60}^3=\\frac{60!}{3!(690-3)!}$ - количество исходов любых билетов<br>\n",
    "$С_{50^3}=\\frac{50!}{3!(50-3)!}$ - количество исходов с тремя известными вопросами<br>\n",
    "$P(A) = \\frac{С_{50^3}}{C_{60}^3}$ - искомая вероятность выпадения 3x известных вопросов из 3х вытянутых "
   ]
  },
  {
   "cell_type": "code",
   "execution_count": 62,
   "id": "2c6bf0c6",
   "metadata": {},
   "outputs": [
    {
     "name": "stdout",
     "output_type": "stream",
     "text": [
      "Ответ: вероятность вытянуть 3 известных из 3х равна 0.5727644652250146\n"
     ]
    }
   ],
   "source": [
    "C60_3 = np.math.factorial(60) // (np.math.factorial(3)*np.math.factorial(60-3))\n",
    "C53 = np.math.factorial(50) // (np.math.factorial(3)*np.math.factorial(50-3))\n",
    "P = C53 / C60_3\n",
    "print(f\"Ответ: вероятность вытянуть 3 известных из 3х равна {P}\")"
   ]
  },
  {
   "cell_type": "markdown",
   "id": "50ec37c9",
   "metadata": {},
   "source": [
    "##### 2. Найдём вероятность где два из трёх вопросов знакомы студенту<br>\n",
    "\n",
    "$C_{50}^2=\\frac{50!}{2!(50-2)!}$ - количество исходов где из 3х выпадает 2 вопроса из 50ти известных<br>\n",
    "$C_{10}^1=\\frac{10!}{1!(10-1)!}$ - количество исходов где из 3х выпадает 1 вопрос из 10 неизвестных<br>\n",
    "$C_{50}^2 * C_{10}^1$ - количество исходов где из 3х выпадает 2 вопроса из 50 известных и 1 вопрос из 10 неизвестных<br>\n",
    "$P(A) = \\frac{C_{50}^2 * C_{10}^1}{C_{60}^3}$ - искомая вероятносьть выпадения 2 известных и 1 неизвестных вопросов"
   ]
  },
  {
   "cell_type": "code",
   "execution_count": 63,
   "id": "ec79546c",
   "metadata": {},
   "outputs": [
    {
     "name": "stdout",
     "output_type": "stream",
     "text": [
      "Ответ: вероятность вытянуть 2 известных из 3х равна 0.35797779076563413\n"
     ]
    }
   ],
   "source": [
    "C50_2 = np.math.factorial(50) // (np.math.factorial(2)*np.math.factorial(50-2))\n",
    "C10_1 = np.math.factorial(10) // (np.math.factorial(1)*np.math.factorial(10-1))\n",
    "P = C50_2 * C10_1 / C60_3\n",
    "print(f\"Ответ: вероятность вытянуть 2 известных из 3х равна {P}\")"
   ]
  },
  {
   "cell_type": "markdown",
   "id": "62216f8d",
   "metadata": {},
   "source": [
    "### Задача 4"
   ]
  },
  {
   "cell_type": "markdown",
   "id": "012d3dc4",
   "metadata": {},
   "source": [
    "#### Допустим, имеется некоторая очень редкая болезнь (поражает 0.1% населения). Вы приходите к врачу, вам делают тест на эту болезнь, и тест оказывается положительным. Врач говорит вам, что этот тест верно выявляет 99% больных этой болезнью и всего лишь в 1% случаев даёт ложный положительный ответ.\n",
    "#### Вопрос: какова вероятность, что вы действительно больны ей?\n",
    "##### Подсказка: используйте формулу Байеса с раскрытием знаменателя с помощью формулы полной вероятности."
   ]
  },
  {
   "cell_type": "markdown",
   "id": "b76fc657",
   "metadata": {},
   "source": [
    "$P(A|B)=\\frac{P(B|A)*P(A)}{P(B)}$<br>\n",
    "Решение:<br>\n",
    "Примем факт болезни за событие $А$, факт положительного теста за событие $B$. Тогда<br>\n",
    "$P(A) = 0.001$ так как по статистике болеет 0,1% населения.<br>\n",
    "$P(\\overline{A} = 0,999$ - следовательно, не болеет  99,9%<br>\n",
    "$P(B|A) = 0.99$ - вероятность верных положительных тестов<br>\n",
    "$P(B|\\overline{A})=0,01$ - вероятность ложных положительных ответов<br>\n",
    "По формуле полной вероятности: $P(B) = P(B|A) * P(A) + P(B|\\overline{A}) * P(\\overline{A})$<br>"
   ]
  },
  {
   "cell_type": "code",
   "execution_count": 71,
   "id": "d871de27",
   "metadata": {},
   "outputs": [
    {
     "name": "stdout",
     "output_type": "stream",
     "text": [
      "P(B)=0.01098\n"
     ]
    }
   ],
   "source": [
    "P_B = 0.99*0.001+0.01*0.999 \n",
    "print(f\"P(B)={P_B}\")"
   ]
  },
  {
   "cell_type": "markdown",
   "id": "a74a4877",
   "metadata": {},
   "source": [
    "Подставим в формулу Байерса:"
   ]
  },
  {
   "cell_type": "code",
   "execution_count": 70,
   "id": "7621375f",
   "metadata": {},
   "outputs": [
    {
     "name": "stdout",
     "output_type": "stream",
     "text": [
      "Ответ: вероятность болезни 0.09016393442622951\n"
     ]
    }
   ],
   "source": [
    "P_AB = (0.99*0.001)/P_B\n",
    "print(f\"Ответ: вероятность болезни {P_AB}\")"
   ]
  }
 ],
 "metadata": {
  "kernelspec": {
   "display_name": "Python 3 (ipykernel)",
   "language": "python",
   "name": "python3"
  },
  "language_info": {
   "codemirror_mode": {
    "name": "ipython",
    "version": 3
   },
   "file_extension": ".py",
   "mimetype": "text/x-python",
   "name": "python",
   "nbconvert_exporter": "python",
   "pygments_lexer": "ipython3",
   "version": "3.10.0"
  }
 },
 "nbformat": 4,
 "nbformat_minor": 5
}
